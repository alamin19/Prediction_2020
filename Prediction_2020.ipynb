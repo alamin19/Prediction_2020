{
  "nbformat": 4,
  "nbformat_minor": 0,
  "metadata": {
    "colab": {
      "name": "Prediction_2020.ipynb",
      "provenance": [],
      "authorship_tag": "ABX9TyPhM6jdad+gRHNL8UGfwUyk",
      "include_colab_link": true
    },
    "kernelspec": {
      "name": "python3",
      "display_name": "Python 3"
    },
    "language_info": {
      "name": "python"
    }
  },
  "cells": [
    {
      "cell_type": "markdown",
      "metadata": {
        "id": "view-in-github",
        "colab_type": "text"
      },
      "source": [
        "<a href=\"https://colab.research.google.com/github/alamin19/Prediction_2020/blob/main/Prediction_2020.ipynb\" target=\"_parent\"><img src=\"https://colab.research.google.com/assets/colab-badge.svg\" alt=\"Open In Colab\"/></a>"
      ]
    },
    {
      "cell_type": "code",
      "metadata": {
        "id": "y0MfPLkKfNlO"
      },
      "source": [
        "import numpy as np\n",
        "import pandas as pd\n",
        "import matplotlib.pyplot as plt"
      ],
      "execution_count": 2,
      "outputs": []
    },
    {
      "cell_type": "code",
      "metadata": {
        "colab": {
          "base_uri": "https://localhost:8080/",
          "height": 255
        },
        "id": "3RRb56hXfguB",
        "outputId": "9b7e2860-d5a8-4582-9bbe-6ed7af656208"
      },
      "source": [
        "df = pd.read_csv('cqmpredict.csv')\n",
        "df.head()"
      ],
      "execution_count": 5,
      "outputs": [
        {
          "output_type": "execute_result",
          "data": {
            "text/html": [
              "<div>\n",
              "<style scoped>\n",
              "    .dataframe tbody tr th:only-of-type {\n",
              "        vertical-align: middle;\n",
              "    }\n",
              "\n",
              "    .dataframe tbody tr th {\n",
              "        vertical-align: top;\n",
              "    }\n",
              "\n",
              "    .dataframe thead th {\n",
              "        text-align: right;\n",
              "    }\n",
              "</style>\n",
              "<table border=\"1\" class=\"dataframe\">\n",
              "  <thead>\n",
              "    <tr style=\"text-align: right;\">\n",
              "      <th></th>\n",
              "      <th>year</th>\n",
              "      <th>IVD</th>\n",
              "      <th>HbA1c &lt;=9% of Total Diabetics</th>\n",
              "      <th>Hypertensive Patients w BP &lt; 140/90</th>\n",
              "      <th>Children Weight</th>\n",
              "      <th>Depression</th>\n",
              "      <th>Dental Sealant</th>\n",
              "      <th>HbA1c &gt;9% of Total Diabetics</th>\n",
              "      <th>Adult Weight</th>\n",
              "      <th>CAD</th>\n",
              "      <th>Tobacco</th>\n",
              "      <th>Colorectal Cancer</th>\n",
              "      <th>Pap Tests</th>\n",
              "      <th>Early Entry Prenatal</th>\n",
              "      <th>Low Birth Weight</th>\n",
              "      <th>Immunization</th>\n",
              "      <th>HIV and Received Follow-up Treatment</th>\n",
              "      <th>Asthmatic</th>\n",
              "      <th>Statin Therapy</th>\n",
              "    </tr>\n",
              "  </thead>\n",
              "  <tbody>\n",
              "    <tr>\n",
              "      <th>0</th>\n",
              "      <td>2016</td>\n",
              "      <td>78.40%</td>\n",
              "      <td>67.90%</td>\n",
              "      <td>62.39%</td>\n",
              "      <td>62.92%</td>\n",
              "      <td>60.34%</td>\n",
              "      <td>48.71%</td>\n",
              "      <td>32.10%</td>\n",
              "      <td>62.46%</td>\n",
              "      <td>79.46%</td>\n",
              "      <td>85.19%</td>\n",
              "      <td>39.89%</td>\n",
              "      <td>54.36%</td>\n",
              "      <td>74.06%</td>\n",
              "      <td>7.80%</td>\n",
              "      <td>42.80%</td>\n",
              "      <td>83.17%</td>\n",
              "      <td>87.38%</td>\n",
              "      <td>NaN</td>\n",
              "    </tr>\n",
              "    <tr>\n",
              "      <th>1</th>\n",
              "      <td>2017</td>\n",
              "      <td>79.27%</td>\n",
              "      <td>67.05%</td>\n",
              "      <td>62.71%</td>\n",
              "      <td>65.85%</td>\n",
              "      <td>66.15%</td>\n",
              "      <td>50.71%</td>\n",
              "      <td>32.95%</td>\n",
              "      <td>63.85%</td>\n",
              "      <td>80.72%</td>\n",
              "      <td>87.50%</td>\n",
              "      <td>42.02%</td>\n",
              "      <td>55.67%</td>\n",
              "      <td>73.97%</td>\n",
              "      <td>8.03%</td>\n",
              "      <td>40.24%</td>\n",
              "      <td>84.52%</td>\n",
              "      <td>86.62%</td>\n",
              "      <td>NaN</td>\n",
              "    </tr>\n",
              "    <tr>\n",
              "      <th>2</th>\n",
              "      <td>2018</td>\n",
              "      <td>80.86%</td>\n",
              "      <td>67.21%</td>\n",
              "      <td>63.26%</td>\n",
              "      <td>69.16%</td>\n",
              "      <td>70.57%</td>\n",
              "      <td>52.80%</td>\n",
              "      <td>32.79%</td>\n",
              "      <td>70.15%</td>\n",
              "      <td>80.63%</td>\n",
              "      <td>88.09%</td>\n",
              "      <td>44.11%</td>\n",
              "      <td>55.95%</td>\n",
              "      <td>73.82%</td>\n",
              "      <td>8.00%</td>\n",
              "      <td>39.44%</td>\n",
              "      <td>85.55%</td>\n",
              "      <td>86.58%</td>\n",
              "      <td>NaN</td>\n",
              "    </tr>\n",
              "    <tr>\n",
              "      <th>3</th>\n",
              "      <td>2019</td>\n",
              "      <td>80.78%</td>\n",
              "      <td>68.05%</td>\n",
              "      <td>64.62%</td>\n",
              "      <td>71.21%</td>\n",
              "      <td>71.61%</td>\n",
              "      <td>56.80%</td>\n",
              "      <td>31.95%</td>\n",
              "      <td>72.43%</td>\n",
              "      <td>NaN</td>\n",
              "      <td>87.17%</td>\n",
              "      <td>45.56%</td>\n",
              "      <td>56.53%</td>\n",
              "      <td>73.81%</td>\n",
              "      <td>8.05%</td>\n",
              "      <td>39.75%</td>\n",
              "      <td>87.21%</td>\n",
              "      <td>85.95%</td>\n",
              "      <td>70.09%</td>\n",
              "    </tr>\n",
              "    <tr>\n",
              "      <th>4</th>\n",
              "      <td>2020</td>\n",
              "      <td>78.80%</td>\n",
              "      <td>35.60%</td>\n",
              "      <td>57.98%</td>\n",
              "      <td>65.13%</td>\n",
              "      <td>64.21%</td>\n",
              "      <td>48.68%</td>\n",
              "      <td>35.60%</td>\n",
              "      <td>65.72%</td>\n",
              "      <td>NaN</td>\n",
              "      <td>83.43%</td>\n",
              "      <td>40.09%</td>\n",
              "      <td>NaN</td>\n",
              "      <td>73.48%</td>\n",
              "      <td>8.18%</td>\n",
              "      <td>40.42%</td>\n",
              "      <td>81.41%</td>\n",
              "      <td>NaN</td>\n",
              "      <td>71.92%</td>\n",
              "    </tr>\n",
              "  </tbody>\n",
              "</table>\n",
              "</div>"
            ],
            "text/plain": [
              "   year     IVD  ... Asthmatic Statin Therapy\n",
              "0  2016  78.40%  ...    87.38%            NaN\n",
              "1  2017  79.27%  ...    86.62%            NaN\n",
              "2  2018  80.86%  ...    86.58%            NaN\n",
              "3  2019  80.78%  ...    85.95%         70.09%\n",
              "4  2020  78.80%  ...       NaN         71.92%\n",
              "\n",
              "[5 rows x 19 columns]"
            ]
          },
          "metadata": {
            "tags": []
          },
          "execution_count": 5
        }
      ]
    },
    {
      "cell_type": "code",
      "metadata": {
        "colab": {
          "base_uri": "https://localhost:8080/"
        },
        "id": "aqRVZFfpgR7x",
        "outputId": "c9ad99f0-2439-4723-b53c-31f171fbea6d"
      },
      "source": [
        "df.info()"
      ],
      "execution_count": 7,
      "outputs": [
        {
          "output_type": "stream",
          "text": [
            "<class 'pandas.core.frame.DataFrame'>\n",
            "RangeIndex: 5 entries, 0 to 4\n",
            "Data columns (total 19 columns):\n",
            " #   Column                                Non-Null Count  Dtype \n",
            "---  ------                                --------------  ----- \n",
            " 0   year                                  5 non-null      int64 \n",
            " 1   IVD                                   5 non-null      object\n",
            " 2   HbA1c <=9% of Total Diabetics         5 non-null      object\n",
            " 3   Hypertensive Patients w BP < 140/90   5 non-null      object\n",
            " 4   Children Weight                       5 non-null      object\n",
            " 5   Depression                            5 non-null      object\n",
            " 6   Dental Sealant                        5 non-null      object\n",
            " 7   HbA1c >9% of Total Diabetics          5 non-null      object\n",
            " 8   Adult Weight                          5 non-null      object\n",
            " 9   CAD                                   3 non-null      object\n",
            " 10  Tobacco                               5 non-null      object\n",
            " 11  Colorectal Cancer                     5 non-null      object\n",
            " 12  Pap Tests                             4 non-null      object\n",
            " 13  Early Entry Prenatal                  5 non-null      object\n",
            " 14  Low Birth Weight                      5 non-null      object\n",
            " 15  Immunization                          5 non-null      object\n",
            " 16  HIV and Received Follow-up Treatment  5 non-null      object\n",
            " 17  Asthmatic                             4 non-null      object\n",
            " 18  Statin Therapy                        2 non-null      object\n",
            "dtypes: int64(1), object(18)\n",
            "memory usage: 888.0+ bytes\n"
          ],
          "name": "stdout"
        }
      ]
    },
    {
      "cell_type": "code",
      "metadata": {
        "id": "LnSrTdRog8Co"
      },
      "source": [
        "df.replace('%', '', regex = True, inplace = True)\n"
      ],
      "execution_count": 13,
      "outputs": []
    },
    {
      "cell_type": "code",
      "metadata": {
        "colab": {
          "base_uri": "https://localhost:8080/",
          "height": 255
        },
        "id": "NoaK9COYkBos",
        "outputId": "1e5040ca-850e-47aa-859b-ef8aaab22750"
      },
      "source": [
        "df.head()"
      ],
      "execution_count": 14,
      "outputs": [
        {
          "output_type": "execute_result",
          "data": {
            "text/html": [
              "<div>\n",
              "<style scoped>\n",
              "    .dataframe tbody tr th:only-of-type {\n",
              "        vertical-align: middle;\n",
              "    }\n",
              "\n",
              "    .dataframe tbody tr th {\n",
              "        vertical-align: top;\n",
              "    }\n",
              "\n",
              "    .dataframe thead th {\n",
              "        text-align: right;\n",
              "    }\n",
              "</style>\n",
              "<table border=\"1\" class=\"dataframe\">\n",
              "  <thead>\n",
              "    <tr style=\"text-align: right;\">\n",
              "      <th></th>\n",
              "      <th>year</th>\n",
              "      <th>IVD</th>\n",
              "      <th>HbA1c &lt;=9% of Total Diabetics</th>\n",
              "      <th>Hypertensive Patients w BP &lt; 140/90</th>\n",
              "      <th>Children Weight</th>\n",
              "      <th>Depression</th>\n",
              "      <th>Dental Sealant</th>\n",
              "      <th>HbA1c &gt;9% of Total Diabetics</th>\n",
              "      <th>Adult Weight</th>\n",
              "      <th>CAD</th>\n",
              "      <th>Tobacco</th>\n",
              "      <th>Colorectal Cancer</th>\n",
              "      <th>Pap Tests</th>\n",
              "      <th>Early Entry Prenatal</th>\n",
              "      <th>Low Birth Weight</th>\n",
              "      <th>Immunization</th>\n",
              "      <th>HIV and Received Follow-up Treatment</th>\n",
              "      <th>Asthmatic</th>\n",
              "      <th>Statin Therapy</th>\n",
              "    </tr>\n",
              "  </thead>\n",
              "  <tbody>\n",
              "    <tr>\n",
              "      <th>0</th>\n",
              "      <td>2016</td>\n",
              "      <td>78.40</td>\n",
              "      <td>67.90</td>\n",
              "      <td>62.39</td>\n",
              "      <td>62.92</td>\n",
              "      <td>60.34</td>\n",
              "      <td>48.71</td>\n",
              "      <td>32.10</td>\n",
              "      <td>62.46</td>\n",
              "      <td>79.46</td>\n",
              "      <td>85.19</td>\n",
              "      <td>39.89</td>\n",
              "      <td>54.36</td>\n",
              "      <td>74.06</td>\n",
              "      <td>7.80</td>\n",
              "      <td>42.80</td>\n",
              "      <td>83.17</td>\n",
              "      <td>87.38</td>\n",
              "      <td>NaN</td>\n",
              "    </tr>\n",
              "    <tr>\n",
              "      <th>1</th>\n",
              "      <td>2017</td>\n",
              "      <td>79.27</td>\n",
              "      <td>67.05</td>\n",
              "      <td>62.71</td>\n",
              "      <td>65.85</td>\n",
              "      <td>66.15</td>\n",
              "      <td>50.71</td>\n",
              "      <td>32.95</td>\n",
              "      <td>63.85</td>\n",
              "      <td>80.72</td>\n",
              "      <td>87.50</td>\n",
              "      <td>42.02</td>\n",
              "      <td>55.67</td>\n",
              "      <td>73.97</td>\n",
              "      <td>8.03</td>\n",
              "      <td>40.24</td>\n",
              "      <td>84.52</td>\n",
              "      <td>86.62</td>\n",
              "      <td>NaN</td>\n",
              "    </tr>\n",
              "    <tr>\n",
              "      <th>2</th>\n",
              "      <td>2018</td>\n",
              "      <td>80.86</td>\n",
              "      <td>67.21</td>\n",
              "      <td>63.26</td>\n",
              "      <td>69.16</td>\n",
              "      <td>70.57</td>\n",
              "      <td>52.80</td>\n",
              "      <td>32.79</td>\n",
              "      <td>70.15</td>\n",
              "      <td>80.63</td>\n",
              "      <td>88.09</td>\n",
              "      <td>44.11</td>\n",
              "      <td>55.95</td>\n",
              "      <td>73.82</td>\n",
              "      <td>8.00</td>\n",
              "      <td>39.44</td>\n",
              "      <td>85.55</td>\n",
              "      <td>86.58</td>\n",
              "      <td>NaN</td>\n",
              "    </tr>\n",
              "    <tr>\n",
              "      <th>3</th>\n",
              "      <td>2019</td>\n",
              "      <td>80.78</td>\n",
              "      <td>68.05</td>\n",
              "      <td>64.62</td>\n",
              "      <td>71.21</td>\n",
              "      <td>71.61</td>\n",
              "      <td>56.80</td>\n",
              "      <td>31.95</td>\n",
              "      <td>72.43</td>\n",
              "      <td>NaN</td>\n",
              "      <td>87.17</td>\n",
              "      <td>45.56</td>\n",
              "      <td>56.53</td>\n",
              "      <td>73.81</td>\n",
              "      <td>8.05</td>\n",
              "      <td>39.75</td>\n",
              "      <td>87.21</td>\n",
              "      <td>85.95</td>\n",
              "      <td>70.09</td>\n",
              "    </tr>\n",
              "    <tr>\n",
              "      <th>4</th>\n",
              "      <td>2020</td>\n",
              "      <td>78.80</td>\n",
              "      <td>35.60</td>\n",
              "      <td>57.98</td>\n",
              "      <td>65.13</td>\n",
              "      <td>64.21</td>\n",
              "      <td>48.68</td>\n",
              "      <td>35.60</td>\n",
              "      <td>65.72</td>\n",
              "      <td>NaN</td>\n",
              "      <td>83.43</td>\n",
              "      <td>40.09</td>\n",
              "      <td>NaN</td>\n",
              "      <td>73.48</td>\n",
              "      <td>8.18</td>\n",
              "      <td>40.42</td>\n",
              "      <td>81.41</td>\n",
              "      <td>NaN</td>\n",
              "      <td>71.92</td>\n",
              "    </tr>\n",
              "  </tbody>\n",
              "</table>\n",
              "</div>"
            ],
            "text/plain": [
              "   year    IVD  ... Asthmatic Statin Therapy\n",
              "0  2016  78.40  ...     87.38            NaN\n",
              "1  2017  79.27  ...     86.62            NaN\n",
              "2  2018  80.86  ...     86.58            NaN\n",
              "3  2019  80.78  ...     85.95          70.09\n",
              "4  2020  78.80  ...       NaN          71.92\n",
              "\n",
              "[5 rows x 19 columns]"
            ]
          },
          "metadata": {
            "tags": []
          },
          "execution_count": 14
        }
      ]
    },
    {
      "cell_type": "code",
      "metadata": {
        "id": "rmzM2YHnkF-I"
      },
      "source": [
        "df = df.astype('float')"
      ],
      "execution_count": 20,
      "outputs": []
    },
    {
      "cell_type": "code",
      "metadata": {
        "colab": {
          "base_uri": "https://localhost:8080/"
        },
        "id": "5oLDkL2DktFY",
        "outputId": "4eb8efb3-0ab1-4b29-c323-2794434935a7"
      },
      "source": [
        "df.info()"
      ],
      "execution_count": 21,
      "outputs": [
        {
          "output_type": "stream",
          "text": [
            "<class 'pandas.core.frame.DataFrame'>\n",
            "RangeIndex: 5 entries, 0 to 4\n",
            "Data columns (total 19 columns):\n",
            " #   Column                                Non-Null Count  Dtype  \n",
            "---  ------                                --------------  -----  \n",
            " 0   year                                  5 non-null      float64\n",
            " 1   IVD                                   5 non-null      float64\n",
            " 2   HbA1c <=9% of Total Diabetics         5 non-null      float64\n",
            " 3   Hypertensive Patients w BP < 140/90   5 non-null      float64\n",
            " 4   Children Weight                       5 non-null      float64\n",
            " 5   Depression                            5 non-null      float64\n",
            " 6   Dental Sealant                        5 non-null      float64\n",
            " 7   HbA1c >9% of Total Diabetics          5 non-null      float64\n",
            " 8   Adult Weight                          5 non-null      float64\n",
            " 9   CAD                                   3 non-null      float64\n",
            " 10  Tobacco                               5 non-null      float64\n",
            " 11  Colorectal Cancer                     5 non-null      float64\n",
            " 12  Pap Tests                             4 non-null      float64\n",
            " 13  Early Entry Prenatal                  5 non-null      float64\n",
            " 14  Low Birth Weight                      5 non-null      float64\n",
            " 15  Immunization                          5 non-null      float64\n",
            " 16  HIV and Received Follow-up Treatment  5 non-null      float64\n",
            " 17  Asthmatic                             4 non-null      float64\n",
            " 18  Statin Therapy                        2 non-null      float64\n",
            "dtypes: float64(19)\n",
            "memory usage: 888.0 bytes\n"
          ],
          "name": "stdout"
        }
      ]
    },
    {
      "cell_type": "code",
      "metadata": {
        "id": "JIq8-3lxk3yA"
      },
      "source": [
        "#Considering the null values\n"
      ],
      "execution_count": null,
      "outputs": []
    },
    {
      "cell_type": "code",
      "metadata": {
        "colab": {
          "base_uri": "https://localhost:8080/"
        },
        "id": "ATvaFwwelOnf",
        "outputId": "4c1d8644-8047-48d8-cf9f-8542a186682b"
      },
      "source": [
        "from statsmodels.tsa.api import VAR\n",
        "x = df.iloc"
      ],
      "execution_count": 22,
      "outputs": [
        {
          "output_type": "stream",
          "text": [
            "/usr/local/lib/python3.7/dist-packages/statsmodels/tools/_testing.py:19: FutureWarning: pandas.util.testing is deprecated. Use the functions in the public API at pandas.testing instead.\n",
            "  import pandas.util.testing as tm\n"
          ],
          "name": "stderr"
        }
      ]
    }
  ]
}